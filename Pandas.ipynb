{
 "cells": [
  {
   "cell_type": "code",
   "execution_count": null,
   "id": "83dfefb2-13c1-4051-bf3d-5593d020b446",
   "metadata": {},
   "outputs": [],
   "source": [
    "Pandas"
   ]
  },
  {
   "cell_type": "code",
   "execution_count": null,
   "id": "45435b47-3398-4f92-955f-2e7b316181d7",
   "metadata": {},
   "outputs": [],
   "source": [
    "B.Sindhu Priya\n",
    "DS&AI\n",
    "Team 2"
   ]
  },
  {
   "cell_type": "code",
   "execution_count": 1,
   "id": "c02905c6-05be-406c-a811-58899aaef9c4",
   "metadata": {},
   "outputs": [],
   "source": [
    "import pandas as pd\n",
    "\n",
    "#1 Load the CSV file into a pandas DataFrame\n",
    "df = pd.read_csv(\"C://Users//bsind//Downloads//sales_data.csv\")\n"
   ]
  },
  {
   "cell_type": "code",
   "execution_count": 2,
   "id": "7cbb9a0d-03c1-449a-a372-714d753f62bf",
   "metadata": {},
   "outputs": [
    {
     "data": {
      "text/html": [
       "<div>\n",
       "<style scoped>\n",
       "    .dataframe tbody tr th:only-of-type {\n",
       "        vertical-align: middle;\n",
       "    }\n",
       "\n",
       "    .dataframe tbody tr th {\n",
       "        vertical-align: top;\n",
       "    }\n",
       "\n",
       "    .dataframe thead th {\n",
       "        text-align: right;\n",
       "    }\n",
       "</style>\n",
       "<table border=\"1\" class=\"dataframe\">\n",
       "  <thead>\n",
       "    <tr style=\"text-align: right;\">\n",
       "      <th></th>\n",
       "      <th>Order ID</th>\n",
       "      <th>Product</th>\n",
       "      <th>Quantity Ordered</th>\n",
       "      <th>Price Each</th>\n",
       "      <th>Order Date</th>\n",
       "      <th>City</th>\n",
       "    </tr>\n",
       "  </thead>\n",
       "  <tbody>\n",
       "    <tr>\n",
       "      <th>0</th>\n",
       "      <td>176558</td>\n",
       "      <td>USB-C Charging Cable</td>\n",
       "      <td>2</td>\n",
       "      <td>11.95</td>\n",
       "      <td>1/22/2023</td>\n",
       "      <td>New York</td>\n",
       "    </tr>\n",
       "    <tr>\n",
       "      <th>1</th>\n",
       "      <td>176559</td>\n",
       "      <td>Bose SoundSport Headphones</td>\n",
       "      <td>1</td>\n",
       "      <td>99.99</td>\n",
       "      <td>1/23/2023</td>\n",
       "      <td>Los Angeles</td>\n",
       "    </tr>\n",
       "    <tr>\n",
       "      <th>2</th>\n",
       "      <td>176560</td>\n",
       "      <td>Google Phone</td>\n",
       "      <td>1</td>\n",
       "      <td>600.00</td>\n",
       "      <td>1/23/2023</td>\n",
       "      <td>Chicago</td>\n",
       "    </tr>\n",
       "    <tr>\n",
       "      <th>3</th>\n",
       "      <td>176561</td>\n",
       "      <td>Wired Headphones</td>\n",
       "      <td>3</td>\n",
       "      <td>11.99</td>\n",
       "      <td>1/24/2023</td>\n",
       "      <td>Houston</td>\n",
       "    </tr>\n",
       "    <tr>\n",
       "      <th>4</th>\n",
       "      <td>176562</td>\n",
       "      <td>Lightning Charging Cable</td>\n",
       "      <td>1</td>\n",
       "      <td>14.95</td>\n",
       "      <td>1/24/2023</td>\n",
       "      <td>New York</td>\n",
       "    </tr>\n",
       "  </tbody>\n",
       "</table>\n",
       "</div>"
      ],
      "text/plain": [
       "   Order ID                     Product  Quantity Ordered  Price Each  \\\n",
       "0    176558        USB-C Charging Cable                 2       11.95   \n",
       "1    176559  Bose SoundSport Headphones                 1       99.99   \n",
       "2    176560                Google Phone                 1      600.00   \n",
       "3    176561            Wired Headphones                 3       11.99   \n",
       "4    176562    Lightning Charging Cable                 1       14.95   \n",
       "\n",
       "  Order Date         City  \n",
       "0  1/22/2023     New York  \n",
       "1  1/23/2023  Los Angeles  \n",
       "2  1/23/2023      Chicago  \n",
       "3  1/24/2023      Houston  \n",
       "4  1/24/2023     New York  "
      ]
     },
     "execution_count": 2,
     "metadata": {},
     "output_type": "execute_result"
    }
   ],
   "source": [
    "#2 Display the first 5 rows of the DataFrame\n",
    "df.head()\n"
   ]
  },
  {
   "cell_type": "code",
   "execution_count": 3,
   "id": "b1f0c5c7-7b55-4c61-bd28-4f998278f01f",
   "metadata": {},
   "outputs": [
    {
     "data": {
      "text/plain": [
       "Order ID            0\n",
       "Product             0\n",
       "Quantity Ordered    0\n",
       "Price Each          0\n",
       "Order Date          0\n",
       "City                0\n",
       "dtype: int64"
      ]
     },
     "execution_count": 3,
     "metadata": {},
     "output_type": "execute_result"
    }
   ],
   "source": [
    "#3 Check for missing values in the dataset\n",
    "df.isnull().sum()\n"
   ]
  },
  {
   "cell_type": "code",
   "execution_count": 4,
   "id": "bee8038f-ee25-4036-b815-6f26b6cbc9e7",
   "metadata": {},
   "outputs": [
    {
     "name": "stdout",
     "output_type": "stream",
     "text": [
      "\n",
      "Dataset with Total Sales column added:\n",
      "   Order ID                     Product  Quantity Ordered  Price Each  \\\n",
      "0    176558        USB-C Charging Cable                 2       11.95   \n",
      "1    176559  Bose SoundSport Headphones                 1       99.99   \n",
      "2    176560                Google Phone                 1      600.00   \n",
      "3    176561            Wired Headphones                 3       11.99   \n",
      "4    176562    Lightning Charging Cable                 1       14.95   \n",
      "\n",
      "  Order Date         City  Total Sales  \n",
      "0  1/22/2023     New York        23.90  \n",
      "1  1/23/2023  Los Angeles        99.99  \n",
      "2  1/23/2023      Chicago       600.00  \n",
      "3  1/24/2023      Houston        35.97  \n",
      "4  1/24/2023     New York        14.95  \n"
     ]
    }
   ],
   "source": [
    "#4 Add a new column 'Total Sales' by multiplying 'Quantity Ordered' and 'Price Each'\n",
    "df['Total Sales'] = df['Quantity Ordered'] * df['Price Each']\n",
    "print(\"\\nDataset with Total Sales column added:\")\n",
    "print(df.head())\n"
   ]
  },
  {
   "cell_type": "code",
   "execution_count": 5,
   "id": "16aeef32-0358-436a-ae6a-ea985edcfd45",
   "metadata": {},
   "outputs": [
    {
     "data": {
      "text/html": [
       "<div>\n",
       "<style scoped>\n",
       "    .dataframe tbody tr th:only-of-type {\n",
       "        vertical-align: middle;\n",
       "    }\n",
       "\n",
       "    .dataframe tbody tr th {\n",
       "        vertical-align: top;\n",
       "    }\n",
       "\n",
       "    .dataframe thead th {\n",
       "        text-align: right;\n",
       "    }\n",
       "</style>\n",
       "<table border=\"1\" class=\"dataframe\">\n",
       "  <thead>\n",
       "    <tr style=\"text-align: right;\">\n",
       "      <th></th>\n",
       "      <th>City</th>\n",
       "      <th>Total Sales</th>\n",
       "    </tr>\n",
       "  </thead>\n",
       "  <tbody>\n",
       "    <tr>\n",
       "      <th>0</th>\n",
       "      <td>Chicago</td>\n",
       "      <td>1800.00</td>\n",
       "    </tr>\n",
       "    <tr>\n",
       "      <th>1</th>\n",
       "      <td>Houston</td>\n",
       "      <td>835.97</td>\n",
       "    </tr>\n",
       "    <tr>\n",
       "      <th>2</th>\n",
       "      <td>Los Angeles</td>\n",
       "      <td>115.35</td>\n",
       "    </tr>\n",
       "    <tr>\n",
       "      <th>3</th>\n",
       "      <td>New York</td>\n",
       "      <td>38.85</td>\n",
       "    </tr>\n",
       "    <tr>\n",
       "      <th>4</th>\n",
       "      <td>San Francisco</td>\n",
       "      <td>1000.00</td>\n",
       "    </tr>\n",
       "  </tbody>\n",
       "</table>\n",
       "</div>"
      ],
      "text/plain": [
       "            City  Total Sales\n",
       "0        Chicago      1800.00\n",
       "1        Houston       835.97\n",
       "2    Los Angeles       115.35\n",
       "3       New York        38.85\n",
       "4  San Francisco      1000.00"
      ]
     },
     "execution_count": 5,
     "metadata": {},
     "output_type": "execute_result"
    }
   ],
   "source": [
    "#5 Group by 'City' and calculate the total sales for each city\n",
    "total_sales_per_city = df.groupby('City')['Total Sales'].sum().reset_index()\n",
    "\n",
    "# Display the new DataFrame\n",
    "total_sales_per_city\n"
   ]
  },
  {
   "cell_type": "code",
   "execution_count": 6,
   "id": "d242a545-dcab-4ec1-915d-f47af6629498",
   "metadata": {},
   "outputs": [
    {
     "name": "stdout",
     "output_type": "stream",
     "text": [
      "\n",
      "Product with the highest total sales:\n",
      "Product        ThinkPad Laptop\n",
      "Total Sales             1200.0\n",
      "Name: 6, dtype: object\n"
     ]
    }
   ],
   "source": [
    "# 6. Identify the product with the highest total sales.\n",
    "\n",
    "total_sales_by_product = df.groupby('Product')['Total Sales'].sum().reset_index()\n",
    "product_highest_sales = total_sales_by_product.loc[total_sales_by_product['Total Sales'].idxmax()]\n",
    "print(\"\\nProduct with the highest total sales:\")\n",
    "print(product_highest_sales)"
   ]
  },
  {
   "cell_type": "code",
   "execution_count": null,
   "id": "d5ffc7b4-8be4-4a88-bd3b-81b4d5a01120",
   "metadata": {},
   "outputs": [],
   "source": []
  }
 ],
 "metadata": {
  "kernelspec": {
   "display_name": "Python 3 (ipykernel)",
   "language": "python",
   "name": "python3"
  },
  "language_info": {
   "codemirror_mode": {
    "name": "ipython",
    "version": 3
   },
   "file_extension": ".py",
   "mimetype": "text/x-python",
   "name": "python",
   "nbconvert_exporter": "python",
   "pygments_lexer": "ipython3",
   "version": "3.12.4"
  }
 },
 "nbformat": 4,
 "nbformat_minor": 5
}
